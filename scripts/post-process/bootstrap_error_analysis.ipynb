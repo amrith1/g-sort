{
 "cells": [
  {
   "cell_type": "code",
   "execution_count": 1,
   "id": "501ac182",
   "metadata": {},
   "outputs": [],
   "source": [
    "from src.bootstrap_error_analysis import *\n",
    "import matplotlib.pyplot as plt\n",
    "%load_ext autoreload\n",
    "%autoreload 2\n",
    "%matplotlib ipympl"
   ]
  },
  {
   "cell_type": "code",
   "execution_count": 7,
   "id": "9a8430c2",
   "metadata": {},
   "outputs": [],
   "source": [
    "ANALYSIS_BASE = \"/Volumes/Analysis/\"\n",
    "gsort_path = \"/Volumes/Scratch/Users/praful/triplet_gsort_v2_30um_raphe-affinity_cosine\"\n",
    "dataset = \"2020-09-29-2\"\n",
    "estim = \"data007/data007-all\"\n",
    "wnoise = \"kilosort_data002/data002\"\n",
    "thr_factor = 1\n",
    "p = 1\n",
    "n = 124\n",
    "\n",
    "\n",
    "# ANALYSIS_BASE = \"/Volumes/Analysis/\"\n",
    "# gsort_path = \"/Volumes/Scratch/Users/ajphillips/papers/temporal_dithering_shah/gsort_v2\"\n",
    "# dataset = \"2022-02-08-1\"\n",
    "# estim = \"data012\"\n",
    "# wnoise = \"\"\n",
    "# thr_factor = 1\n",
    "# p = 103\n",
    "# n = 4237"
   ]
  },
  {
   "cell_type": "code",
   "execution_count": 11,
   "id": "1b623fc2",
   "metadata": {},
   "outputs": [
    {
     "name": "stderr",
     "output_type": "stream",
     "text": [
      "  0%|                                                                                                                                                                                | 0/40 [00:00<?, ?it/s]\n"
     ]
    },
    {
     "ename": "KeyError",
     "evalue": "'graph_info'",
     "output_type": "error",
     "traceback": [
      "\u001b[0;31m---------------------------------------------------------------------------\u001b[0m",
      "\u001b[0;31mKeyError\u001b[0m                                  Traceback (most recent call last)",
      "\u001b[0;32m/tmp/ipykernel_29520/520617493.py\u001b[0m in \u001b[0;36m<module>\u001b[0;34m\u001b[0m\n\u001b[0;32m----> 1\u001b[0;31m \u001b[0mrelevant_movies\u001b[0m\u001b[0;34m,\u001b[0m \u001b[0mtotal_probs\u001b[0m\u001b[0;34m,\u001b[0m \u001b[0medge_probs\u001b[0m\u001b[0;34m,\u001b[0m \u001b[0mclusters\u001b[0m\u001b[0;34m,\u001b[0m \u001b[0medges\u001b[0m\u001b[0;34m,\u001b[0m \u001b[0melectrodes\u001b[0m \u001b[0;34m=\u001b[0m \u001b[0mget_bootstrap_information\u001b[0m\u001b[0;34m(\u001b[0m\u001b[0mANALYSIS_BASE\u001b[0m\u001b[0;34m,\u001b[0m \u001b[0mgsort_path\u001b[0m\u001b[0;34m,\u001b[0m\u001b[0mdataset\u001b[0m\u001b[0;34m,\u001b[0m \u001b[0mestim\u001b[0m\u001b[0;34m,\u001b[0m \u001b[0mwnoise\u001b[0m\u001b[0;34m,\u001b[0m\u001b[0mp\u001b[0m\u001b[0;34m,\u001b[0m\u001b[0mn\u001b[0m\u001b[0;34m)\u001b[0m\u001b[0;34m\u001b[0m\u001b[0;34m\u001b[0m\u001b[0m\n\u001b[0m",
      "\u001b[0;32m/Volumes/Lab/Users/jeffbrown/g-sort/src/bootstrap_error_analysis.py\u001b[0m in \u001b[0;36mget_bootstrap_information\u001b[0;34m(ANALYSIS_BASE, gsort_path, dataset, estim, wnoise, p, n)\u001b[0m\n\u001b[1;32m     34\u001b[0m \u001b[0;34m\u001b[0m\u001b[0m\n\u001b[1;32m     35\u001b[0m         \u001b[0medge_set\u001b[0m \u001b[0;34m=\u001b[0m \u001b[0;34m[\u001b[0m\u001b[0;34m]\u001b[0m\u001b[0;34m\u001b[0m\u001b[0;34m\u001b[0m\u001b[0m\n\u001b[0;32m---> 36\u001b[0;31m         \u001b[0;32mfor\u001b[0m \u001b[0me\u001b[0m\u001b[0;34m,\u001b[0m\u001b[0mc\u001b[0m \u001b[0;32min\u001b[0m \u001b[0mprob_dict\u001b[0m\u001b[0;34m[\u001b[0m\u001b[0;34m'graph_info'\u001b[0m\u001b[0;34m]\u001b[0m\u001b[0;34m[\u001b[0m\u001b[0;36m2\u001b[0m\u001b[0;34m]\u001b[0m\u001b[0;34m.\u001b[0m\u001b[0mitems\u001b[0m\u001b[0;34m(\u001b[0m\u001b[0;34m)\u001b[0m\u001b[0;34m:\u001b[0m\u001b[0;34m\u001b[0m\u001b[0;34m\u001b[0m\u001b[0m\n\u001b[0m\u001b[1;32m     37\u001b[0m             \u001b[0;32mif\u001b[0m \u001b[0mc\u001b[0m \u001b[0;34m==\u001b[0m \u001b[0mn\u001b[0m\u001b[0;34m:\u001b[0m\u001b[0;34m\u001b[0m\u001b[0;34m\u001b[0m\u001b[0m\n\u001b[1;32m     38\u001b[0m                 \u001b[0medge_set\u001b[0m \u001b[0;34m+=\u001b[0m \u001b[0;34m[\u001b[0m\u001b[0me\u001b[0m\u001b[0;34m]\u001b[0m\u001b[0;34m\u001b[0m\u001b[0;34m\u001b[0m\u001b[0m\n",
      "\u001b[0;31mKeyError\u001b[0m: 'graph_info'"
     ]
    }
   ],
   "source": [
    "relevant_movies, total_probs, edge_probs, clusters, edges, electrodes = get_bootstrap_information(ANALYSIS_BASE, gsort_path,dataset, estim, wnoise,p,n)"
   ]
  },
  {
   "cell_type": "code",
   "execution_count": 12,
   "id": "61ce0997",
   "metadata": {},
   "outputs": [
    {
     "name": "stderr",
     "output_type": "stream",
     "text": [
      "100%|███████████████████████████████████████████████████████████████████████████████████████████████████████████████████████████████████████████████████████████████████████| 40/40 [00:00<00:00, 51.85it/s]\n"
     ]
    }
   ],
   "source": [
    "electrical_path = os.path.join(ANALYSIS_BASE, dataset, estim)\n",
    "filepath = os.path.join(gsort_path, \n",
    "                        dataset, estim, wnoise, \"p\" + str(p))\n",
    "\n",
    "relevant_movies = [f for f in os.listdir(filepath) if f\"_n{n}_\" in f and \"residual\" not in f]\n",
    "num_movies = len(relevant_movies)\n",
    "\n",
    "total_probs = np.zeros(num_movies)\n",
    "edge_probs = []\n",
    "clusters = []\n",
    "edges = []\n",
    "for k, movie in enumerate(tqdm.tqdm(relevant_movies)):\n",
    "    # if k%1000 == 0:\n",
    "    #     print(f\"{k} out of {num_movies}\")\n",
    "    with open(os.path.join(filepath,movie), \"rb\") as f:\n",
    "        prob_dict = pickle.load(f)"
   ]
  },
  {
   "cell_type": "code",
   "execution_count": 13,
   "id": "42f2420b",
   "metadata": {},
   "outputs": [
    {
     "data": {
      "text/plain": [
       "{'prob': 0.44,\n",
       " 'cosine_prob': (0.4, 0.7),\n",
       " 'edge_probs': array([0.28, 0.12, 0.04]),\n",
       " 'non_saturated_template': array([1., 1., 1., 1., 1.]),\n",
       " 'data_similarity': array([0.91600872, 0.86914049, 0.67784145]),\n",
       " 'resolved': True,\n",
       " 'initial_clustering': array([4, 3, 0, 0, 0, 2, 1, 3, 0, 3, 0, 2, 3, 2, 2, 0, 3, 4, 0, 3, 3, 2,\n",
       "        2, 4, 2]),\n",
       " 'initial_clustering_with_virtual': array([4, 3, 0, 0, 0, 2, 1, 3, 0, 3, 0, 2, 3, 2, 2, 0, 3, 4, 0, 3, 3, 2,\n",
       "        2, 4, 2]),\n",
       " 'cell_in_clusters': {4237: [3, 4, 1], 4311: [0, 3]},\n",
       " 'final_clustering': array([2, 2, 2, 2, 2, 2, 2, 2, 2, 2, 2, 2, 2, 2, 2, 2, 2, 2, 2, 2, 2, 2,\n",
       "        2, 2, 2]),\n",
       " 'iterations': 0,\n",
       " 'num_trials': 25,\n",
       " 'note': ''}"
      ]
     },
     "execution_count": 13,
     "metadata": {},
     "output_type": "execute_result"
    }
   ],
   "source": [
    "prob_dict"
   ]
  },
  {
   "cell_type": "code",
   "execution_count": null,
   "id": "5a50b985",
   "metadata": {},
   "outputs": [],
   "source": [
    "make_surface_plot(relevant_movies, total_probs, ANALYSIS_BASE,dataset, estim, p, n)"
   ]
  },
  {
   "cell_type": "code",
   "execution_count": null,
   "id": "6faca613",
   "metadata": {},
   "outputs": [],
   "source": [
    "dss, dss_stack, num_electrodes, num_samples, movie_stack= get_difference_signals(relevant_movies,clusters,edges,ANALYSIS_BASE, dataset, estim,p, electrodes)"
   ]
  },
  {
   "cell_type": "code",
   "execution_count": null,
   "id": "7a1dec40",
   "metadata": {},
   "outputs": [],
   "source": [
    "plt.figure()\n",
    "ax = plt.subplot(111)\n",
    "ax.plot(dss_stack[:100,0,:].T, color = \"C0\")\n",
    "plt.show()"
   ]
  },
  {
   "cell_type": "code",
   "execution_count": null,
   "id": "fcfcec0d",
   "metadata": {},
   "outputs": [],
   "source": [
    "average_ds, average_error_stack,std_error_stack, shifted_dss, shifted_dss_stack,error, error_stack = compute_average_diff_signal_and_error(dss,dss_stack, num_electrodes, num_samples)"
   ]
  },
  {
   "cell_type": "code",
   "execution_count": null,
   "id": "e542ecaa",
   "metadata": {},
   "outputs": [],
   "source": [
    "plt.figure()\n",
    "ax = plt.subplot(212)\n",
    "ax.plot(shifted_dss_stack[error_stack[:,0]> average_error[0],0,:].T, color = \"C0\")\n",
    "ax.plot(average_ds[0,:].T, color = \"C1\")\n",
    "ax.set_title(\"Bad spikes\")\n",
    "ax = plt.subplot(211)\n",
    "ax.plot(shifted_dss_stack[error_stack[:,0]< average_error[0],0,:].T, color = \"C0\")\n",
    "ax.plot(average_ds[0,:].T, color = \"C1\")\n",
    "\n",
    "ax.set_title(\"Good spikes\")\n",
    "per_good_spikes = np.mean(error_stack[:,0]< average_error[0])\n",
    "plt.suptitle(f\"% good spikes = {per_good_spikes}\")\n",
    "plt.show()"
   ]
  },
  {
   "cell_type": "code",
   "execution_count": null,
   "id": "57472825",
   "metadata": {},
   "outputs": [],
   "source": [
    "mean_edge_error = get_mean_edge_error(error)"
   ]
  },
  {
   "cell_type": "code",
   "execution_count": null,
   "id": "5f4b4e16",
   "metadata": {},
   "outputs": [],
   "source": [
    "new_edge_probs = get_modified_edge_probs(mean_edge_error, edge_probs,average_error)"
   ]
  },
  {
   "cell_type": "code",
   "execution_count": null,
   "id": "fa9b1e27",
   "metadata": {},
   "outputs": [],
   "source": [
    "new_total_probs = np.array([np.sum(p) for p in new_edge_probs])"
   ]
  },
  {
   "cell_type": "code",
   "execution_count": null,
   "id": "33ed7965",
   "metadata": {},
   "outputs": [],
   "source": [
    "plt.figure()\n",
    "ax = plt.subplot(111)\n",
    "ax.hist(new_total_probs-total_probs, bins = 20);"
   ]
  },
  {
   "cell_type": "code",
   "execution_count": null,
   "id": "6cef6d29",
   "metadata": {},
   "outputs": [],
   "source": [
    "make_surface_plot(relevant_movies, new_total_probs, ANALYSIS_BASE,dataset, estim, p, n)"
   ]
  },
  {
   "cell_type": "code",
   "execution_count": null,
   "id": "a84fa1cd",
   "metadata": {},
   "outputs": [],
   "source": []
  }
 ],
 "metadata": {
  "kernelspec": {
   "display_name": "g-sort-bertha",
   "language": "python",
   "name": "myenv"
  },
  "language_info": {
   "codemirror_mode": {
    "name": "ipython",
    "version": 3
   },
   "file_extension": ".py",
   "mimetype": "text/x-python",
   "name": "python",
   "nbconvert_exporter": "python",
   "pygments_lexer": "ipython3",
   "version": "3.9.7"
  }
 },
 "nbformat": 4,
 "nbformat_minor": 5
}
