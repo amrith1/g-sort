{
 "cells": [
  {
   "cell_type": "code",
   "execution_count": 316,
   "metadata": {},
   "outputs": [
    {
     "name": "stdout",
     "output_type": "stream",
     "text": [
      "The autoreload extension is already loaded. To reload it, use:\n",
      "  %reload_ext autoreload\n"
     ]
    }
   ],
   "source": [
    "from scipy.io import loadmat\n",
    "import matplotlib.pyplot as plt\n",
    "import os\n",
    "import re\n",
    "from src.bootstrap_error_analysis import *\n",
    "from src.run_gsort_v2_wuericmod import get_vision_data\n",
    "\n",
    "%load_ext autoreload\n",
    "%autoreload 2"
   ]
  },
  {
   "cell_type": "code",
   "execution_count": 452,
   "metadata": {},
   "outputs": [
    {
     "name": "stderr",
     "output_type": "stream",
     "text": [
      "6it [00:00, 713.32it/s]\n",
      "100%|█████████████████████████████████████████████████████████████████████████████████████| 236/236 [00:02<00:00, 82.86it/s]\n"
     ]
    }
   ],
   "source": [
    "ANALYSIS_BASE = \"/Volumes/Analysis/\"\n",
    "gsort_path = \"/Volumes/Scratch/Users/jeffbrown/final_tests2/\"\n",
    "dataset = \"2016-06-13-0\"\n",
    "estim = \"data001\"\n",
    "wnoise = \"kilosort_data000/data000\"\n",
    "thr_factor = 1\n",
    "n = 4\n",
    "ps = [int(re.findall('\\d+', m)[-1]) for m in os.listdir(os.path.join(gsort_path, dataset, estim,wnoise)) if (len(re.findall('\\d+', m))==2) and (f\"_n{n}_\" in m)]\n",
    "\n",
    "vcd = get_vision_data(ANALYSIS_BASE, dataset, wnoise)\n",
    "noise = vcd.channel_noise\n",
    "\n",
    "\n",
    "\n",
    "\n",
    "pattern_movies, total_probs, edge_probs, clusters, edges, electrodes,num_trials = get_bootstrap_information(ANALYSIS_BASE, gsort_path,dataset, estim, wnoise, ps,n, electrodes_stored = True)\n",
    "\n",
    "dss, dss_stack, dss_inds, num_electrodes, num_samples, movie_stack= get_difference_signals(pattern_movies,clusters,edges,ANALYSIS_BASE, dataset, estim, electrodes)\n",
    "average_ds, average_error,std_error, shifted_dss, shifted_dss_stack,error, error_stack = compute_average_diff_signal_and_error(dss,dss_stack, num_electrodes, num_samples)\n",
    "\n"
   ]
  },
  {
   "cell_type": "code",
   "execution_count": 453,
   "metadata": {},
   "outputs": [],
   "source": [
    "test_set = [i for i in range(len(electrodes))]\n",
    "electrode = 0\n",
    "factor =0\n",
    "exp_error = np.array([np.sqrt(num_samples*2*(2*noise[e])**2) for e in electrodes])\n",
    "# exp_error = np.array([16*noise[e] for e in electrodes])\n",
    "\n",
    "new_instance_probs = get_instance_modified_edge_probs(edge_probs, error, dss_inds, exp_error, std_error, factor, test_set,num_trials)"
   ]
  },
  {
   "cell_type": "code",
   "execution_count": null,
   "metadata": {},
   "outputs": [],
   "source": []
  }
 ],
 "metadata": {
  "kernelspec": {
   "display_name": "g-sort-bertha-main",
   "language": "python",
   "name": "g-sort-bertha-main"
  },
  "language_info": {
   "codemirror_mode": {
    "name": "ipython",
    "version": 3
   },
   "file_extension": ".py",
   "mimetype": "text/x-python",
   "name": "python",
   "nbconvert_exporter": "python",
   "pygments_lexer": "ipython3",
   "version": "3.8.13"
  }
 },
 "nbformat": 4,
 "nbformat_minor": 5
}
