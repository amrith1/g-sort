{
 "cells": [
  {
   "cell_type": "code",
   "execution_count": 1,
   "metadata": {},
   "outputs": [
    {
     "name": "stderr",
     "output_type": "stream",
     "text": [
      "/Volumes/Lab/Users/jeffbrown/g-sort/src/utilities/electrode_map.py:1448: VisibleDeprecationWarning: Creating an ndarray from ragged nested sequences (which is a list-or-tuple of lists-or-tuples-or ndarrays with different lengths or shapes) is deprecated. If you meant to do this, you must specify 'dtype=object' when creating the ndarray.\n",
      "  LITKE_512_ARRAY_ADJ_MAT = np.array([\n",
      "/Volumes/Lab/Users/jeffbrown/g-sort/src/utilities/electrode_map.py:3443: VisibleDeprecationWarning: Creating an ndarray from ragged nested sequences (which is a list-or-tuple of lists-or-tuples-or ndarrays with different lengths or shapes) is deprecated. If you meant to do this, you must specify 'dtype=object' when creating the ndarray.\n",
      "  LITKE_519_ARRAY_ADJ_MAT = np.array([\n"
     ]
    },
    {
     "name": "stdout",
     "output_type": "stream",
     "text": [
      "/Volumes/Lab/Users/jeffbrown/g-sort/src/utilities/visionloader.py\n"
     ]
    }
   ],
   "source": [
    "import os\n",
    "os.environ[\"OMP_NUM_THREADS\"] = \"1\"\n",
    "os.environ[\"OPENBLAS_NUM_THREADS\"] = \"1\" \n",
    "os.environ[\"MKL_NUM_THREADS\"] = \"1\" \n",
    "os.environ[\"VECLIB_MAXIMUM_THREADS\"] = \"1\"\n",
    "os.environ[\"NUMEXPR_NUM_THREADS\"] = \"1\"\n",
    "\n",
    "import sys\n",
    "\n",
    "from src.run_gsort_v2_wuericmod import *\n",
    "import argparse\n",
    "from scipy.io import loadmat\n",
    "from itertools import product\n",
    "import tqdm\n",
    "import logging\n",
    "import re\n",
    "import src.utilities.electrode_map as emap\n",
    "\n",
    "%load_ext autoreload\n",
    "%autoreload 2"
   ]
  },
  {
   "cell_type": "code",
   "execution_count": 15,
   "metadata": {},
   "outputs": [],
   "source": [
    "def get_center_eis_fixed_latency(n, electrode_list, ap, array_id = 1501,  num_samples = 25, snr_ratio = 1, power_threshold = 2, excluded_types = ['bad','dup'], excluded_cells = [], sample_len_left = 55,sample_len_right = 75 , with_noise = True):\n",
    "    \"\"\"\n",
    "    Return templates and template parameters\n",
    "    n: int\n",
    "    electrode_list: list<int>\n",
    "    ap: tuple<string, string> \n",
    "    array_id: int\n",
    "    num_samples: int\n",
    "    snr_ration: float\n",
    "    \n",
    "    output: list<int>, np.array, np.array, np.array\n",
    "    \"\"\"\n",
    "\n",
    "    # Store relevant templates because on SNR on the stimulating electrode and SNR on the electrodes relevant to the cell-of-interest\n",
    "    tl = TemplateLoader(ap[0], '', ap[1], array_id = array_id)\n",
    "    \n",
    "    if with_noise:\n",
    "        tl.store_all_cells_except_with_noise(excluded_types)\n",
    "    else:\n",
    "        tl.store_all_cells_except(excluded_types)\n",
    "    \n",
    "    # Remove this condition in next set of run\n",
    "    tl.remove_templates_by_list(excluded_cells)\n",
    "    tl.remove_templates_with_zero_variance(electrode_list)\n",
    "    tl.remove_templates_by_elec_power(electrode_list, power_threshold, num_samples)\n",
    "    \n",
    "    if n not in tl.cellids:\n",
    "        tl.store_cells_from_list([n])\n",
    "\n",
    "    cell_eis_all_electrodes = np.pad(np.array([tl.templates[i] for i in range(len(tl.cellids))]), ((0,0),(0,0),(sample_len_left, sample_len_right)), mode='constant')\n",
    "\n",
    "    peak_times_all_electrodes = np.argmin(cell_eis_all_electrodes, axis=2)\n",
    "    peak_value_all_electrodes = np.min(cell_eis_all_electrodes, axis=2)\n",
    "    peak_electrodes = np.argmin(peak_value_all_electrodes, axis=1)\n",
    "    adj_mat = emap.get_litke_array_adj_mat_by_array_id(array_id=array_id)\n",
    "\n",
    "    cell_to_shift = [Counter() for _ in range(len(tl.cellids))]\n",
    "    for i, (peak_electrode, peak_times) in enumerate(zip(peak_electrodes, peak_times_all_electrodes)):\n",
    "        for surrounding_electrode in adj_mat[peak_electrode]:\n",
    "            cell_to_shift[i][surrounding_electrode] = peak_times[peak_electrode]-peak_times[surrounding_electrode]\n",
    "\n",
    "\n",
    "\n",
    "    # Align the peak of each template along each electrode\n",
    "    cell_eis = np.pad(np.array([tl.templates[i][electrode_list, :] for i in range(len(tl.cellids))]), ((0,0),(0,0),(sample_len_left, sample_len_right)), mode='constant')\n",
    "    cell_eis_variance = np.pad(np.array([tl.templates_variance[i][electrode_list, :]**2 for i in range(len(tl.cellids))]), ((0,0),(0,0),(sample_len_left, sample_len_right)), mode='edge')\n",
    "\n",
    "    peak_spike_times = np.argmin(cell_eis, axis = 2)\n",
    "    peak_spike_times[peak_spike_times < sample_len_left] = sample_len_left\n",
    "    \n",
    "    cell_eis_tmp = np.zeros((cell_eis.shape[0], cell_eis.shape[1],sample_len_left + sample_len_right))\n",
    "    cell_variance_tmp = np.zeros((cell_eis.shape[0], cell_eis.shape[1],sample_len_left + sample_len_right))\n",
    "\n",
    "    shiftable = np.zeros((len(tl.cellids), len(electrode_list)))\n",
    "    \n",
    "    for i in range(len(peak_spike_times)):\n",
    "        for j in range(len(electrode_list)):\n",
    "        \n",
    "            cell_eis_tmp[i, j] = cell_eis[i,j, peak_spike_times[i][j]-sample_len_left+cell_to_shift[i][electrode_list[j]]:peak_spike_times[i][j]+sample_len_right+cell_to_shift[i][electrode_list[j]]]\n",
    "            cell_variance_tmp[i, j] = cell_eis_variance[i,j, peak_spike_times[i][j]-sample_len_left+cell_to_shift[i][electrode_list[j]]:peak_spike_times[i][j]+sample_len_right+cell_to_shift[i][electrode_list[j]]]\n",
    "\n",
    "            shiftable[i,j] = np.abs(cell_to_shift[i][electrode_list[j]]) > 0\n",
    "    \n",
    "    peak_spike_times = np.argmin(cell_eis_tmp, axis = 2)\n",
    "    cellids = tl.cellids\n",
    "    return cellids,  cell_eis_tmp, cell_variance_tmp, peak_spike_times, shiftable"
   ]
  },
  {
   "cell_type": "code",
   "execution_count": 3,
   "metadata": {},
   "outputs": [
    {
     "name": "stdout",
     "output_type": "stream",
     "text": [
      "/Volumes/Analysis/2019-06-20-0/kilosort_data000/data000\n"
     ]
    }
   ],
   "source": [
    "cell = 309\n",
    "k = 32\n",
    "p = 433\n",
    "\n",
    "ANALYSIS_BASE = '/Volumes/Analysis'\n",
    "# dataset = '2016-06-13-0'\n",
    "dataset = '2019-06-20-0'\n",
    "# vstim_datarun = 'kilosort_data000/data000'\n",
    "vstim_datarun = \"kilosort_data000/data000\"\n",
    "# estim_datarun = 'data001'\n",
    "estim_datarun = \"data001\"\n",
    "vstim_analysis_path = os.path.join(ANALYSIS_BASE, dataset, vstim_datarun)\n",
    "\n",
    "print(vstim_analysis_path)\n",
    "estim_analysis_path = os.path.join(ANALYSIS_BASE, dataset, estim_datarun)\n",
    "pattern_path = os.path.join(estim_analysis_path, 'pattern_files')\n",
    "\n",
    "vstim_data = vl.load_vision_data(vstim_analysis_path,\n",
    "                                 vstim_datarun.rsplit('/')[-1],\n",
    "                                 include_params=True,\n",
    "                                 include_ei=True,\n",
    "                                 include_noise=True,\n",
    "                                 include_neurons=True)\n",
    "noise = vstim_data.channel_noise\n",
    "duplicates, cell_ei = compute_duplicates(vstim_data, noise)\n",
    "\n",
    "all_cell_types = [ct for ct in vstim_data.get_all_present_cell_types() if 'bad' not in ct and 'dup' not in ct]\n",
    "compartments = ['soma', 'mixed']\n",
    "excluded_types = ['bad', 'dup']\n",
    "\n",
    "mutual_threshold = 1\n",
    "compartments = ['soma', 'mixed']\n",
    "\n",
    "excluded_types = ['bad', 'dup']\n",
    "all_cell_types = [ct for ct in vstim_data.get_all_present_cell_types() if 'bad' not in ct and 'dup' not in ct]\n",
    "cell_types= ['parasol', 'midget']\n",
    "start_time_limit = 0\n",
    "end_time_limit = 30\n",
    "pt = 1.5\n",
    "time_limit = 30\n",
    "\n",
    "total_electrode_list, total_cell_to_electrode_list, mutual_cells, array_id = get_cell_info(all_cell_types, vstim_data, compartments, noise, mutual_threshold=mutual_threshold)\n",
    "\n",
    "electrode_list =  list(set([e for c in mutual_cells[cell] for e in total_cell_to_electrode_list[c]]))\n",
    "\n"
   ]
  },
  {
   "cell_type": "code",
   "execution_count": 16,
   "metadata": {},
   "outputs": [],
   "source": [
    "data_on_cells = get_center_eis(cell, electrode_list, ap = (vstim_analysis_path[:-7], vstim_datarun.rsplit('/')[-1]), excluded_types = excluded_types, excluded_cells = list(duplicates), power_threshold=pt, array_id = array_id, sample_len_left = time_limit+20 ,sample_len_right = time_limit+20)\n",
    "data_on_cells_fixed_latency = get_center_eis_fixed_latency(cell, electrode_list, ap = (vstim_analysis_path[:-7], vstim_datarun.rsplit('/')[-1]), excluded_types = excluded_types, excluded_cells = list(duplicates), power_threshold=pt, array_id = array_id, sample_len_left = time_limit+20 ,sample_len_right = time_limit+20)\n",
    "\n"
   ]
  },
  {
   "cell_type": "code",
   "execution_count": 14,
   "metadata": {},
   "outputs": [
    {
     "data": {
      "image/png": "[encoded data removed]",
      "text/plain": [
       "<Figure size 432x288 with 1 Axes>"
      ]
     },
     "metadata": {
      "needs_background": "light"
     },
     "output_type": "display_data"
    }
   ],
   "source": [
    "plt.figure()\n",
    "ax = plt.subplot(111)\n",
    "\n",
    "i = 3\n",
    "test_cell = data_on_cells[0][i]\n",
    "\n",
    "ax.plot(vstim_data.get_ei_for_cell(test_cell).ei[electrode_list].T, color = \"C0\")\n",
    "ax.plot(data_on_cells_fixed_latency[1][i].T, color = \"C1\")\n",
    "plt.show()"
   ]
  },
  {
   "cell_type": "code",
   "execution_count": 17,
   "metadata": {},
   "outputs": [
    {
     "data": {
      "text/plain": [
       "array([[0., 1., 0., 0.],\n",
       "       [0., 1., 1., 0.],\n",
       "       [0., 1., 0., 0.],\n",
       "       [1., 0., 0., 1.],\n",
       "       [0., 0., 0., 0.],\n",
       "       [1., 1., 0., 0.],\n",
       "       [0., 0., 0., 1.],\n",
       "       [0., 0., 0., 0.],\n",
       "       [0., 0., 0., 1.]])"
      ]
     },
     "execution_count": 17,
     "metadata": {},
     "output_type": "execute_result"
    }
   ],
   "source": [
    "data_on_cells_fixed_latency[-1]"
   ]
  },
  {
   "cell_type": "code",
   "execution_count": null,
   "metadata": {},
   "outputs": [],
   "source": []
  }
 ],
 "metadata": {
  "kernelspec": {
   "display_name": "Python 3.8.13",
   "language": "python",
   "name": "python3"
  },
  "language_info": {
   "codemirror_mode": {
    "name": "ipython",
    "version": 3
   },
   "file_extension": ".py",
   "mimetype": "text/x-python",
   "name": "python",
   "nbconvert_exporter": "python",
   "pygments_lexer": "ipython3",
   "version": "3.8.13"
  },
  "orig_nbformat": 4,
  "vscode": {
   "interpreter": {
    "hash": "3a6d5de1028b0a2660ff0dff67d7d4a847f86bbbfe65a7d264e57a136b9486c9"
   }
  }
 },
 "nbformat": 4,
 "nbformat_minor": 2
}
